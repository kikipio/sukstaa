{
  "nbformat": 4,
  "nbformat_minor": 0,
  "metadata": {
    "colab": {
      "name": "Untitled1.ipynb",
      "provenance": [],
      "authorship_tag": "ABX9TyMkF4ONEwccBM+D/C98kRMq",
      "include_colab_link": true
    },
    "kernelspec": {
      "name": "python3",
      "display_name": "Python 3"
    }
  },
  "cells": [
    {
      "cell_type": "markdown",
      "metadata": {
        "id": "view-in-github",
        "colab_type": "text"
      },
      "source": [
        "<a href=\"https://colab.research.google.com/github/kikipio/sukstaa/blob/master/Untitled1.ipynb\" target=\"_parent\"><img src=\"https://colab.research.google.com/assets/colab-badge.svg\" alt=\"Open In Colab\"/></a>"
      ]
    },
    {
      "cell_type": "markdown",
      "metadata": {
        "id": "4ENJXwcfPy7L",
        "colab_type": "text"
      },
      "source": [
        "# 인공지능 사관학교 프리코스\n",
        "\n",
        "## 1주차 과제 \n",
        "\n",
        "### * 인공지능을 이용한 기술의 4가지 예시\n",
        "\n",
        "\n",
        "1. 언어분야\n",
        "\n",
        "  * 지난 '2019년 대구 메디 스타트업' 에 선정된 네오폰스 는 음성 인식 인공지능이 탑재된 언어 재활 훈련 프로그램 앱 '토키토키'를 개발함. \n",
        "앱은 인공지능을 이용한 자율 언어 재활 훈련, 환자와 언어치료사를 온라인으로 연결하는 O2O (Online to Offline) 서비스, 최근 코로나 바이러스로 인해 주목받고 있는 언택트(Untact) 치료 서비스를 특징으로 한다.\n",
        "\n",
        "2. 음성분야\n",
        "\n",
        "  * 독일우주항공센터(DLR)는 달 탐사에\n",
        "  인공지능 딥러닝 기반 자동 음성인식(ASR) 시스템을 적용하여 우주 비행사가 달 탐사 중에 양손을 사용하며 인공지능기술 로봇을 음성으로 제어할 수 있게 할 예정이라고 한다.\n",
        "\n",
        "3. 이미지분야\n",
        "\n",
        "  * 이미지 및 영상인식 인공지능 분야는 빠르게 발전하여 현재 중소업체들도 적용하는 기업이 늘어가는 상황. 예를 들어 반도체 검사 장비 업체는 자체 장비에 딥러닝 소프트웨어를 넣어 인공지능으로 검사하는 장비를 만들거나, CCTV 업체는 안면 인식 등의 기술을 자체 카메라에 넣어 성능을 높이는 방식이 있다.\n",
        "\n",
        "4. 자율주행\n",
        "\n",
        "  * 로보티즈는 다양한 실내 환경에서 물품을 신속하고 안전하게 배송하는 인공지능(AI) 기반 자율주행 다중 로봇 시스템 상용화 기술 개발과 상기 로봇 시스템 적용이 가능한 신사업 모델 창출을 추진하고있다.\n"
      ]
    }
  ]
}